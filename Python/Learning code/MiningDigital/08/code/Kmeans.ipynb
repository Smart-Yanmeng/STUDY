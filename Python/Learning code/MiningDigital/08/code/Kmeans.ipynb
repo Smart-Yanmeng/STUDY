{
 "cells": [
  {
   "cell_type": "code",
   "execution_count": 1,
   "metadata": {},
   "outputs": [],
   "source": [
    "# import required libraries\n",
    "import numpy as np\n",
    "import matplotlib.pyplot as plt\n",
    "from sklearn.datasets import make_blobs\n",
    "# 函数库 make_blobs() 是sklearn.datasets 中的一个函数,主要功能是:生成聚类数据集"
   ]
  },
  {
   "cell_type": "code",
   "execution_count": 3,
   "metadata": {},
   "outputs": [],
   "source": [
    "# Generate our dataset\n",
    "dataset = make_blobs(n_samples=200,\n",
    "                    centers=4,\n",
    "                    n_features=2,\n",
    "                    cluster_std=1.5,\n",
    "                    random_state=50)"
   ]
  },
  {
   "cell_type": "code",
   "execution_count": 8,
   "metadata": {},
   "outputs": [],
   "source": [
    "# print  (dataset)\n",
    "points = dataset[0]\n"
   ]
  },
  {
   "cell_type": "code",
   "execution_count": 9,
   "metadata": {},
   "outputs": [],
   "source": [
    "# import kmeans\n",
    "from sklearn.cluster import KMeans\n"
   ]
  },
  {
   "cell_type": "code",
   "execution_count": 11,
   "metadata": {},
   "outputs": [],
   "source": [
    "# Create a kmeans objects\n",
    "kmeans = KMeans(n_clusters=4)"
   ]
  },
  {
   "cell_type": "code",
   "execution_count": 12,
   "metadata": {},
   "outputs": [
    {
     "data": {
      "text/plain": [
       "KMeans(n_clusters=4)"
      ]
     },
     "execution_count": 12,
     "metadata": {},
     "output_type": "execute_result"
    }
   ],
   "source": [
    "# fit the kmeans to the dataset\n",
    "kmeans.fit(points)"
   ]
  },
  {
   "cell_type": "code",
   "execution_count": 14,
   "metadata": {},
   "outputs": [
    {
     "data": {
      "text/plain": [
       "<matplotlib.collections.PathCollection at 0x7fd612bca9d0>"
      ]
     },
     "execution_count": 14,
     "metadata": {},
     "output_type": "execute_result"
    },
    {
     "data": {
      "image/png": "[encoded data removed]",
      "text/plain": [
       "<Figure size 432x288 with 1 Axes>"
      ]
     },
     "metadata": {
      "needs_background": "light"
     },
     "output_type": "display_data"
    }
   ],
   "source": [
    "plt.scatter(dataset[0][:,0],dataset[0][:,1])"
   ]
  },
  {
   "cell_type": "code",
   "execution_count": 15,
   "metadata": {},
   "outputs": [],
   "source": [
    "clusters = kmeans.cluster_centers_"
   ]
  },
  {
   "cell_type": "code",
   "execution_count": 16,
   "metadata": {},
   "outputs": [
    {
     "name": "stdout",
     "output_type": "stream",
     "text": [
      "[[-5.45922685 -2.35556894]\n",
      " [-1.90808931  5.14791029]\n",
      " [ 0.06912515 -5.38143605]\n",
      " [-2.39930521 10.05258314]]\n"
     ]
    }
   ],
   "source": [
    "# print out the clusters\n",
    "print (clusters)"
   ]
  },
  {
   "cell_type": "code",
   "execution_count": 17,
   "metadata": {},
   "outputs": [],
   "source": [
    "y_km = kmeans.fit_predict(points)"
   ]
  },
  {
   "cell_type": "code",
   "execution_count": 18,
   "metadata": {},
   "outputs": [
    {
     "data": {
      "text/plain": [
       "array([0, 1, 2, 0, 3, 1, 0, 1, 1, 3, 3, 0, 3, 2, 3, 2, 0, 0, 3, 3, 3, 2,\n",
       "       0, 0, 0, 2, 0, 1, 2, 0, 0, 3, 3, 1, 1, 3, 3, 3, 2, 2, 0, 3, 2, 2,\n",
       "       1, 1, 0, 2, 2, 0, 1, 3, 2, 0, 2, 2, 1, 3, 3, 2, 1, 1, 0, 1, 1, 0,\n",
       "       1, 2, 0, 0, 1, 3, 0, 1, 2, 2, 3, 2, 2, 1, 3, 2, 3, 3, 3, 3, 0, 1,\n",
       "       0, 3, 1, 0, 1, 2, 2, 3, 1, 2, 1, 2, 3, 1, 2, 0, 2, 1, 2, 3, 3, 0,\n",
       "       1, 3, 0, 0, 3, 2, 0, 0, 2, 1, 0, 2, 0, 0, 1, 0, 0, 2, 0, 1, 3, 1,\n",
       "       1, 2, 0, 2, 1, 0, 0, 3, 0, 2, 2, 1, 3, 0, 1, 2, 1, 3, 0, 3, 2, 1,\n",
       "       1, 2, 0, 1, 1, 1, 2, 2, 1, 1, 3, 3, 3, 2, 1, 1, 1, 1, 3, 2, 1, 0,\n",
       "       3, 1, 0, 2, 1, 2, 2, 0, 3, 1, 3, 0, 2, 1, 2, 2, 3, 2, 1, 0, 3, 2,\n",
       "       3, 0], dtype=int32)"
      ]
     },
     "execution_count": 18,
     "metadata": {},
     "output_type": "execute_result"
    }
   ],
   "source": [
    "y_km"
   ]
  },
  {
   "cell_type": "code",
   "execution_count": 29,
   "metadata": {},
   "outputs": [
    {
     "data": {
      "text/plain": [
       "<matplotlib.collections.PathCollection at 0x7fd6140d8640>"
      ]
     },
     "execution_count": 29,
     "metadata": {},
     "output_type": "execute_result"
    },
    {
     "data": {
      "image/png": "[encoded data removed]",
      "text/plain": [
       "<Figure size 432x288 with 1 Axes>"
      ]
     },
     "metadata": {
      "needs_background": "light"
     },
     "output_type": "display_data"
    }
   ],
   "source": [
    "\n",
    "plt.scatter(points[y_km==0,0],points[y_km ==0,1],s=50,color='red')\n",
    "plt.scatter(points[y_km==1,0],points[y_km ==1,1],s=50,color='blue')\n",
    "plt.scatter(points[y_km==2,0],points[y_km ==2,1],s=50,color='green')\n",
    "plt.scatter(points[y_km==3,0],points[y_km ==3,1],s=50,color='yellow')\n",
    "\n",
    "plt.scatter(clusters[0][0],clusters[0][1],marker='*',s=150,color='black')\n",
    "plt.scatter(clusters[1][0],clusters[1][1],marker='*',s=150,color='black')\n",
    "plt.scatter(clusters[2][0],clusters[2][1],marker='*',s=150,color='black')\n",
    "plt.scatter(clusters[3][0],clusters[3][1],marker='*',s=150,color='black')"
   ]
  },
  {
   "cell_type": "code",
   "execution_count": null,
   "metadata": {},
   "outputs": [],
   "source": []
  }
 ],
 "metadata": {
  "kernelspec": {
   "display_name": "Python 3",
   "language": "python",
   "name": "python3"
  },
  "language_info": {
   "codemirror_mode": {
    "name": "ipython",
    "version": 3
   },
   "file_extension": ".py",
   "mimetype": "text/x-python",
   "name": "python",
   "nbconvert_exporter": "python",
   "pygments_lexer": "ipython3",
   "version": "3.8.5"
  }
 },
 "nbformat": 4,
 "nbformat_minor": 4
}
