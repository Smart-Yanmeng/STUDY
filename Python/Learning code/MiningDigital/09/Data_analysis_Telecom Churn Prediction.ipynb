{
 "cells": [
  {
   "cell_type": "markdown",
   "metadata": {},
   "source": [
    "# Load necessary python modules"
   ]
  },
  {
   "cell_type": "code",
   "execution_count": 133,
   "metadata": {},
   "outputs": [],
   "source": [
    "import numpy as np\n",
    "import pandas as pd\n",
    "import matplotlib.pyplot as plt\n",
    "import seaborn as sns\n",
    "\n",
    "from sklearn.preprocessing import LabelEncoder\n",
    "\n",
    "from sklearn.preprocessing import MinMaxScaler\n",
    "from sklearn.preprocessing import StandardScaler\n",
    "from sklearn.model_selection import train_test_split\n",
    "\n",
    "\n",
    "from sklearn.metrics import confusion_matrix\n",
    "from sklearn.metrics import accuracy_score\n",
    "from sklearn.metrics import classification_report\n",
    "\n",
    "import tensorflow as tf\n",
    "from tensorflow import keras\n",
    "from tensorflow.keras.models import Sequential\n",
    "from tensorflow.keras.layers import Dense"
   ]
  },
  {
   "cell_type": "markdown",
   "metadata": {},
   "source": [
    "# Load Dataset "
   ]
  },
  {
   "cell_type": "code",
   "execution_count": 134,
   "metadata": {},
   "outputs": [
    {
     "data": {
      "text/html": [
       "<div>\n",
       "<style scoped>\n",
       "    .dataframe tbody tr th:only-of-type {\n",
       "        vertical-align: middle;\n",
       "    }\n",
       "\n",
       "    .dataframe tbody tr th {\n",
       "        vertical-align: top;\n",
       "    }\n",
       "\n",
       "    .dataframe thead th {\n",
       "        text-align: right;\n",
       "    }\n",
       "</style>\n",
       "<table border=\"1\" class=\"dataframe\">\n",
       "  <thead>\n",
       "    <tr style=\"text-align: right;\">\n",
       "      <th></th>\n",
       "      <th>customerID</th>\n",
       "      <th>gender</th>\n",
       "      <th>SeniorCitizen</th>\n",
       "      <th>Partner</th>\n",
       "      <th>Dependents</th>\n",
       "      <th>tenure</th>\n",
       "      <th>PhoneService</th>\n",
       "      <th>MultipleLines</th>\n",
       "      <th>InternetService</th>\n",
       "      <th>OnlineSecurity</th>\n",
       "      <th>...</th>\n",
       "      <th>DeviceProtection</th>\n",
       "      <th>TechSupport</th>\n",
       "      <th>StreamingTV</th>\n",
       "      <th>StreamingMovies</th>\n",
       "      <th>Contract</th>\n",
       "      <th>PaperlessBilling</th>\n",
       "      <th>PaymentMethod</th>\n",
       "      <th>MonthlyCharges</th>\n",
       "      <th>TotalCharges</th>\n",
       "      <th>Churn</th>\n",
       "    </tr>\n",
       "  </thead>\n",
       "  <tbody>\n",
       "    <tr>\n",
       "      <th>0</th>\n",
       "      <td>7590-VHVEG</td>\n",
       "      <td>Female</td>\n",
       "      <td>0</td>\n",
       "      <td>Yes</td>\n",
       "      <td>No</td>\n",
       "      <td>1</td>\n",
       "      <td>No</td>\n",
       "      <td>No phone service</td>\n",
       "      <td>DSL</td>\n",
       "      <td>No</td>\n",
       "      <td>...</td>\n",
       "      <td>No</td>\n",
       "      <td>No</td>\n",
       "      <td>No</td>\n",
       "      <td>No</td>\n",
       "      <td>Month-to-month</td>\n",
       "      <td>Yes</td>\n",
       "      <td>Electronic check</td>\n",
       "      <td>29.85</td>\n",
       "      <td>29.85</td>\n",
       "      <td>No</td>\n",
       "    </tr>\n",
       "    <tr>\n",
       "      <th>1</th>\n",
       "      <td>5575-GNVDE</td>\n",
       "      <td>Male</td>\n",
       "      <td>0</td>\n",
       "      <td>No</td>\n",
       "      <td>No</td>\n",
       "      <td>34</td>\n",
       "      <td>Yes</td>\n",
       "      <td>No</td>\n",
       "      <td>DSL</td>\n",
       "      <td>Yes</td>\n",
       "      <td>...</td>\n",
       "      <td>Yes</td>\n",
       "      <td>No</td>\n",
       "      <td>No</td>\n",
       "      <td>No</td>\n",
       "      <td>One year</td>\n",
       "      <td>No</td>\n",
       "      <td>Mailed check</td>\n",
       "      <td>56.95</td>\n",
       "      <td>1889.5</td>\n",
       "      <td>No</td>\n",
       "    </tr>\n",
       "    <tr>\n",
       "      <th>2</th>\n",
       "      <td>3668-QPYBK</td>\n",
       "      <td>Male</td>\n",
       "      <td>0</td>\n",
       "      <td>No</td>\n",
       "      <td>No</td>\n",
       "      <td>2</td>\n",
       "      <td>Yes</td>\n",
       "      <td>No</td>\n",
       "      <td>DSL</td>\n",
       "      <td>Yes</td>\n",
       "      <td>...</td>\n",
       "      <td>No</td>\n",
       "      <td>No</td>\n",
       "      <td>No</td>\n",
       "      <td>No</td>\n",
       "      <td>Month-to-month</td>\n",
       "      <td>Yes</td>\n",
       "      <td>Mailed check</td>\n",
       "      <td>53.85</td>\n",
       "      <td>108.15</td>\n",
       "      <td>Yes</td>\n",
       "    </tr>\n",
       "    <tr>\n",
       "      <th>3</th>\n",
       "      <td>7795-CFOCW</td>\n",
       "      <td>Male</td>\n",
       "      <td>0</td>\n",
       "      <td>No</td>\n",
       "      <td>No</td>\n",
       "      <td>45</td>\n",
       "      <td>No</td>\n",
       "      <td>No phone service</td>\n",
       "      <td>DSL</td>\n",
       "      <td>Yes</td>\n",
       "      <td>...</td>\n",
       "      <td>Yes</td>\n",
       "      <td>Yes</td>\n",
       "      <td>No</td>\n",
       "      <td>No</td>\n",
       "      <td>One year</td>\n",
       "      <td>No</td>\n",
       "      <td>Bank transfer (automatic)</td>\n",
       "      <td>42.30</td>\n",
       "      <td>1840.75</td>\n",
       "      <td>No</td>\n",
       "    </tr>\n",
       "    <tr>\n",
       "      <th>4</th>\n",
       "      <td>9237-HQITU</td>\n",
       "      <td>Female</td>\n",
       "      <td>0</td>\n",
       "      <td>No</td>\n",
       "      <td>No</td>\n",
       "      <td>2</td>\n",
       "      <td>Yes</td>\n",
       "      <td>No</td>\n",
       "      <td>Fiber optic</td>\n",
       "      <td>No</td>\n",
       "      <td>...</td>\n",
       "      <td>No</td>\n",
       "      <td>No</td>\n",
       "      <td>No</td>\n",
       "      <td>No</td>\n",
       "      <td>Month-to-month</td>\n",
       "      <td>Yes</td>\n",
       "      <td>Electronic check</td>\n",
       "      <td>70.70</td>\n",
       "      <td>151.65</td>\n",
       "      <td>Yes</td>\n",
       "    </tr>\n",
       "  </tbody>\n",
       "</table>\n",
       "<p>5 rows × 21 columns</p>\n",
       "</div>"
      ],
      "text/plain": [
       "   customerID  gender  SeniorCitizen Partner Dependents  tenure PhoneService  \\\n",
       "0  7590-VHVEG  Female              0     Yes         No       1           No   \n",
       "1  5575-GNVDE    Male              0      No         No      34          Yes   \n",
       "2  3668-QPYBK    Male              0      No         No       2          Yes   \n",
       "3  7795-CFOCW    Male              0      No         No      45           No   \n",
       "4  9237-HQITU  Female              0      No         No       2          Yes   \n",
       "\n",
       "      MultipleLines InternetService OnlineSecurity  ... DeviceProtection  \\\n",
       "0  No phone service             DSL             No  ...               No   \n",
       "1                No             DSL            Yes  ...              Yes   \n",
       "2                No             DSL            Yes  ...               No   \n",
       "3  No phone service             DSL            Yes  ...              Yes   \n",
       "4                No     Fiber optic             No  ...               No   \n",
       "\n",
       "  TechSupport StreamingTV StreamingMovies        Contract PaperlessBilling  \\\n",
       "0          No          No              No  Month-to-month              Yes   \n",
       "1          No          No              No        One year               No   \n",
       "2          No          No              No  Month-to-month              Yes   \n",
       "3         Yes          No              No        One year               No   \n",
       "4          No          No              No  Month-to-month              Yes   \n",
       "\n",
       "               PaymentMethod MonthlyCharges  TotalCharges Churn  \n",
       "0           Electronic check          29.85         29.85    No  \n",
       "1               Mailed check          56.95        1889.5    No  \n",
       "2               Mailed check          53.85        108.15   Yes  \n",
       "3  Bank transfer (automatic)          42.30       1840.75    No  \n",
       "4           Electronic check          70.70        151.65   Yes  \n",
       "\n",
       "[5 rows x 21 columns]"
      ]
     },
     "execution_count": 134,
     "metadata": {},
     "output_type": "execute_result"
    }
   ],
   "source": [
    "df = pd.read_csv(\"./WA_Fn-UseC_-Telco-Customer-Churn.csv\")\n",
    "df.head()"
   ]
  },
  {
   "cell_type": "code",
   "execution_count": 135,
   "metadata": {},
   "outputs": [
    {
     "data": {
      "text/html": [
       "<div>\n",
       "<style scoped>\n",
       "    .dataframe tbody tr th:only-of-type {\n",
       "        vertical-align: middle;\n",
       "    }\n",
       "\n",
       "    .dataframe tbody tr th {\n",
       "        vertical-align: top;\n",
       "    }\n",
       "\n",
       "    .dataframe thead th {\n",
       "        text-align: right;\n",
       "    }\n",
       "</style>\n",
       "<table border=\"1\" class=\"dataframe\">\n",
       "  <thead>\n",
       "    <tr style=\"text-align: right;\">\n",
       "      <th></th>\n",
       "      <th>SeniorCitizen</th>\n",
       "      <th>tenure</th>\n",
       "      <th>MonthlyCharges</th>\n",
       "    </tr>\n",
       "  </thead>\n",
       "  <tbody>\n",
       "    <tr>\n",
       "      <th>count</th>\n",
       "      <td>7043.000000</td>\n",
       "      <td>7043.000000</td>\n",
       "      <td>7043.000000</td>\n",
       "    </tr>\n",
       "    <tr>\n",
       "      <th>mean</th>\n",
       "      <td>0.162147</td>\n",
       "      <td>32.371149</td>\n",
       "      <td>64.761692</td>\n",
       "    </tr>\n",
       "    <tr>\n",
       "      <th>std</th>\n",
       "      <td>0.368612</td>\n",
       "      <td>24.559481</td>\n",
       "      <td>30.090047</td>\n",
       "    </tr>\n",
       "    <tr>\n",
       "      <th>min</th>\n",
       "      <td>0.000000</td>\n",
       "      <td>0.000000</td>\n",
       "      <td>18.250000</td>\n",
       "    </tr>\n",
       "    <tr>\n",
       "      <th>25%</th>\n",
       "      <td>0.000000</td>\n",
       "      <td>9.000000</td>\n",
       "      <td>35.500000</td>\n",
       "    </tr>\n",
       "    <tr>\n",
       "      <th>50%</th>\n",
       "      <td>0.000000</td>\n",
       "      <td>29.000000</td>\n",
       "      <td>70.350000</td>\n",
       "    </tr>\n",
       "    <tr>\n",
       "      <th>75%</th>\n",
       "      <td>0.000000</td>\n",
       "      <td>55.000000</td>\n",
       "      <td>89.850000</td>\n",
       "    </tr>\n",
       "    <tr>\n",
       "      <th>max</th>\n",
       "      <td>1.000000</td>\n",
       "      <td>72.000000</td>\n",
       "      <td>118.750000</td>\n",
       "    </tr>\n",
       "  </tbody>\n",
       "</table>\n",
       "</div>"
      ],
      "text/plain": [
       "       SeniorCitizen       tenure  MonthlyCharges\n",
       "count    7043.000000  7043.000000     7043.000000\n",
       "mean        0.162147    32.371149       64.761692\n",
       "std         0.368612    24.559481       30.090047\n",
       "min         0.000000     0.000000       18.250000\n",
       "25%         0.000000     9.000000       35.500000\n",
       "50%         0.000000    29.000000       70.350000\n",
       "75%         0.000000    55.000000       89.850000\n",
       "max         1.000000    72.000000      118.750000"
      ]
     },
     "execution_count": 135,
     "metadata": {},
     "output_type": "execute_result"
    }
   ],
   "source": [
    "df.describe()"
   ]
  },
  {
   "cell_type": "code",
   "execution_count": 136,
   "metadata": {},
   "outputs": [
    {
     "data": {
      "text/plain": [
       "Index(['customerID', 'gender', 'SeniorCitizen', 'Partner', 'Dependents',\n",
       "       'tenure', 'PhoneService', 'MultipleLines', 'InternetService',\n",
       "       'OnlineSecurity', 'OnlineBackup', 'DeviceProtection', 'TechSupport',\n",
       "       'StreamingTV', 'StreamingMovies', 'Contract', 'PaperlessBilling',\n",
       "       'PaymentMethod', 'MonthlyCharges', 'TotalCharges', 'Churn'],\n",
       "      dtype='object')"
      ]
     },
     "execution_count": 136,
     "metadata": {},
     "output_type": "execute_result"
    }
   ],
   "source": [
    "# customerID:顾客ID；gender：性别；SeniorCitizen是否老年人；Partner：是否已婚；Dependents：是否有亲属；tenure：使用时长；\n",
    "# PhoneService：是否订购电话业务；MultipleLines：是否多重号码；InternetService：是否宽带网络；OnlineSecurity：是否开通网络安全\n",
    "# OnlineBackup：线上备份服务；DeviceProtection：设备保护；TechSupport：是否订购技术电话支持；StreamingTV：网络电视；\n",
    "# StreamingMovies：网络电影；Contract：沟通维护频率；PaperlessBilling：是否有电子账单；PaymentMethod：支付方式；\n",
    "# MonthlyCharges：每月消费；TotalCharges：累积消费；Churn：是否流失\n",
    "df.columns"
   ]
  },
  {
   "cell_type": "markdown",
   "metadata": {},
   "source": [
    "# basic Inspection on dataset"
   ]
  },
  {
   "cell_type": "code",
   "execution_count": 137,
   "metadata": {},
   "outputs": [
    {
     "name": "stdout",
     "output_type": "stream",
     "text": [
      "Index(['gender', 'SeniorCitizen', 'Partner', 'Dependents', 'tenure',\n",
      "       'PhoneService', 'MultipleLines', 'InternetService', 'OnlineSecurity',\n",
      "       'OnlineBackup', 'DeviceProtection', 'TechSupport', 'StreamingTV',\n",
      "       'StreamingMovies', 'Contract', 'PaperlessBilling', 'PaymentMethod',\n",
      "       'MonthlyCharges', 'TotalCharges', 'Churn'],\n",
      "      dtype='object')\n",
      "(7043, 20)\n",
      "gender               object\n",
      "SeniorCitizen         int64\n",
      "Partner              object\n",
      "Dependents           object\n",
      "tenure                int64\n",
      "PhoneService         object\n",
      "MultipleLines        object\n",
      "InternetService      object\n",
      "OnlineSecurity       object\n",
      "OnlineBackup         object\n",
      "DeviceProtection     object\n",
      "TechSupport          object\n",
      "StreamingTV          object\n",
      "StreamingMovies      object\n",
      "Contract             object\n",
      "PaperlessBilling     object\n",
      "PaymentMethod        object\n",
      "MonthlyCharges      float64\n",
      "TotalCharges         object\n",
      "Churn                object\n",
      "dtype: object\n"
     ]
    },
    {
     "data": {
      "image/png": "[encoded data removed]",
      "text/plain": [
       "<Figure size 432x432 with 1 Axes>"
      ]
     },
     "metadata": {},
     "output_type": "display_data"
    }
   ],
   "source": [
    "# Remove/drop unwanted columns\n",
    "df.drop(columns=[\"customerID\"],inplace=True)\n",
    "#columns/feature names\n",
    "print(df.columns)\n",
    "#check the shape rows and columns\n",
    "print(df.shape)\n",
    "# Checking the data types of all the columns\n",
    "print(df.dtypes)\n",
    "\n",
    "plt.figure(figsize=(6,6))\n",
    "plt.pie(df['Churn'].value_counts(),labels=df['Churn'].value_counts().index,colors=['blue','red'],autopct='%1.2f%%',explode=(0.1,0))\n",
    "plt.title('Proportions of Customer Churn')\n",
    "plt.show()"
   ]
  },
  {
   "cell_type": "code",
   "execution_count": 131,
   "metadata": {},
   "outputs": [
    {
     "name": "stdout",
     "output_type": "stream",
     "text": [
      "gender                                   0\n",
      "SeniorCitizen                            0\n",
      "Partner                                  0\n",
      "Dependents                               0\n",
      "tenure                                   0\n",
      "PhoneService                             0\n",
      "MultipleLines                            0\n",
      "OnlineSecurity                           0\n",
      "OnlineBackup                             0\n",
      "DeviceProtection                         0\n",
      "TechSupport                              0\n",
      "StreamingTV                              0\n",
      "StreamingMovies                          0\n",
      "PaperlessBilling                         0\n",
      "MonthlyCharges                           0\n",
      "TotalCharges                             0\n",
      "Churn                                    0\n",
      "InternetService_Fiber optic              0\n",
      "InternetService_No                       0\n",
      "Contract_One year                        0\n",
      "Contract_Two year                        0\n",
      "PaymentMethod_Credit card (automatic)    0\n",
      "PaymentMethod_Electronic check           0\n",
      "PaymentMethod_Mailed check               0\n",
      "dtype: int64\n",
      "gender  SeniorCitizen  Partner  Dependents  tenure  PhoneService  MultipleLines  OnlineSecurity  OnlineBackup  DeviceProtection  TechSupport  StreamingTV  StreamingMovies  PaperlessBilling  MonthlyCharges  TotalCharges  Churn  InternetService_Fiber optic  InternetService_No  Contract_One year  Contract_Two year  PaymentMethod_Credit card (automatic)  PaymentMethod_Electronic check  PaymentMethod_Mailed check\n",
      "False   False          False    False       False   False         False          False           False         False             False        False        False            False             False           False         False  False                        False               False              False              False                                  False                           False                         10163\n",
      "Name: count, dtype: int64\n",
      "------\n",
      "Churn\n",
      "0    0.508019\n",
      "1    0.491981\n",
      "Name: proportion, dtype: float64\n",
      "             gender  SeniorCitizen       Partner    Dependents        tenure  \\\n",
      "count  10163.000000   10163.000000  10163.000000  10163.000000  10163.000000   \n",
      "mean       0.508708       0.192364      0.445243      0.259372     27.888222   \n",
      "std        0.499949       0.394177      0.497017      0.438312     24.126085   \n",
      "min        0.000000       0.000000      0.000000      0.000000      1.000000   \n",
      "25%        0.000000       0.000000      0.000000      0.000000      5.000000   \n",
      "50%        1.000000       0.000000      0.000000      0.000000     21.000000   \n",
      "75%        1.000000       0.000000      1.000000      1.000000     49.000000   \n",
      "max        1.000000       1.000000      1.000000      1.000000     72.000000   \n",
      "\n",
      "       PhoneService  MultipleLines  OnlineSecurity  OnlineBackup  \\\n",
      "count  10163.000000   10163.000000    10163.000000  10163.000000   \n",
      "mean       0.904949       0.437666        0.250123      0.326183   \n",
      "std        0.293299       0.496124        0.433105      0.468838   \n",
      "min        0.000000       0.000000        0.000000      0.000000   \n",
      "25%        1.000000       0.000000        0.000000      0.000000   \n",
      "50%        1.000000       0.000000        0.000000      0.000000   \n",
      "75%        1.000000       1.000000        1.000000      1.000000   \n",
      "max        1.000000       1.000000        1.000000      1.000000   \n",
      "\n",
      "       DeviceProtection   TechSupport   StreamingTV  StreamingMovies  \\\n",
      "count      10163.000000  10163.000000  10163.000000     10163.000000   \n",
      "mean           0.323920      0.250910      0.394864         0.396241   \n",
      "std            0.467993      0.433558      0.488845         0.489140   \n",
      "min            0.000000      0.000000      0.000000         0.000000   \n",
      "25%            0.000000      0.000000      0.000000         0.000000   \n",
      "50%            0.000000      0.000000      0.000000         0.000000   \n",
      "75%            1.000000      1.000000      1.000000         1.000000   \n",
      "max            1.000000      1.000000      1.000000         1.000000   \n",
      "\n",
      "       PaperlessBilling  MonthlyCharges  TotalCharges         Churn  \n",
      "count      10163.000000    10163.000000  10163.000000  10163.000000  \n",
      "mean           0.641051       67.621509   2044.122730      0.491981  \n",
      "std            0.479716       28.832558   2193.938628      0.499960  \n",
      "min            0.000000       18.250000     18.800000      0.000000  \n",
      "25%            0.000000       45.300000    273.225000      0.000000  \n",
      "50%            1.000000       74.400000   1145.700000      0.000000  \n",
      "75%            1.000000       90.600000   3264.175000      1.000000  \n",
      "max            1.000000      118.750000   8684.800000      1.000000  \n",
      "<class 'pandas.core.frame.DataFrame'>\n",
      "Index: 10163 entries, 4290 to 7042\n",
      "Data columns (total 24 columns):\n",
      " #   Column                                 Non-Null Count  Dtype  \n",
      "---  ------                                 --------------  -----  \n",
      " 0   gender                                 10163 non-null  int64  \n",
      " 1   SeniorCitizen                          10163 non-null  int64  \n",
      " 2   Partner                                10163 non-null  int64  \n",
      " 3   Dependents                             10163 non-null  int64  \n",
      " 4   tenure                                 10163 non-null  int64  \n",
      " 5   PhoneService                           10163 non-null  int64  \n",
      " 6   MultipleLines                          10163 non-null  int64  \n",
      " 7   OnlineSecurity                         10163 non-null  int64  \n",
      " 8   OnlineBackup                           10163 non-null  int64  \n",
      " 9   DeviceProtection                       10163 non-null  int64  \n",
      " 10  TechSupport                            10163 non-null  int64  \n",
      " 11  StreamingTV                            10163 non-null  int64  \n",
      " 12  StreamingMovies                        10163 non-null  int64  \n",
      " 13  PaperlessBilling                       10163 non-null  int64  \n",
      " 14  MonthlyCharges                         10163 non-null  float64\n",
      " 15  TotalCharges                           10163 non-null  float64\n",
      " 16  Churn                                  10163 non-null  int64  \n",
      " 17  InternetService_Fiber optic            10163 non-null  bool   \n",
      " 18  InternetService_No                     10163 non-null  bool   \n",
      " 19  Contract_One year                      10163 non-null  bool   \n",
      " 20  Contract_Two year                      10163 non-null  bool   \n",
      " 21  PaymentMethod_Credit card (automatic)  10163 non-null  bool   \n",
      " 22  PaymentMethod_Electronic check         10163 non-null  bool   \n",
      " 23  PaymentMethod_Mailed check             10163 non-null  bool   \n",
      "dtypes: bool(7), float64(2), int64(15)\n",
      "memory usage: 1.5 MB\n",
      "None\n"
     ]
    },
    {
     "data": {
      "image/png": "[encoded data removed]",
      "text/plain": [
       "<Figure size 432x432 with 1 Axes>"
      ]
     },
     "metadata": {},
     "output_type": "display_data"
    }
   ],
   "source": [
    "#Null / Nan Values\n",
    "print (df.isnull().sum())\n",
    "print (df.isnull().value_counts())\n",
    "print ('------')\n",
    "#Balanced / Imbalanced Dataset\n",
    "print (df[\"Churn\"].value_counts(normalize=True))\n",
    "#describe\n",
    "print (df.describe())\n",
    "print (df.info())\n",
    "\n",
    "plt.figure(figsize=(6,6))\n",
    "plt.pie(df['Churn'].value_counts(),labels=df['Churn'].value_counts().index,colors=['blue','red'],autopct='%1.2f%%',explode=(0.1,0))\n",
    "plt.title('Proportions of Customer Churn')\n",
    "plt.show()\n",
    "# Observations\n",
    "\n",
    "# Dataset has rows/sample=7043 ,Coulmns/features=20\n",
    "# Dataset - features: gender', 'SeniorCitizen', 'Partner', 'Dependents', 'tenure', 'PhoneService', 'MultipleLines', 'InternetService', 'OnlineSecurity', 'OnlineBackup', 'DeviceProtection', 'TechSupport', 'StreamingTV','StreamingMovies', 'Contract', 'PaperlessBilling', 'PaymentMethod','MonthlyCharges', 'TotalCharges', 'Churn'\n",
    "# Churn is dependent variable.\n",
    "# It is imbalanced Dataset\n",
    "# Dataset did not have - Null / Nan Values"
   ]
  },
  {
   "cell_type": "code",
   "execution_count": 104,
   "metadata": {},
   "outputs": [
    {
     "name": "stdout",
     "output_type": "stream",
     "text": [
      "0        No\n",
      "1        No\n",
      "2        No\n",
      "3        No\n",
      "4        No\n",
      "       ... \n",
      "7038     No\n",
      "7039     No\n",
      "7040     No\n",
      "7041    Yes\n",
      "7042     No\n",
      "Name: SeniorCitizen, Length: 7043, dtype: object\n"
     ]
    },
    {
     "data": {
      "text/plain": [
       "0         29.85\n",
       "1       1889.50\n",
       "2        108.15\n",
       "3       1840.75\n",
       "4        151.65\n",
       "         ...   \n",
       "7038    1990.50\n",
       "7039    7362.90\n",
       "7040     346.45\n",
       "7041     306.60\n",
       "7042    6844.50\n",
       "Name: TotalCharges, Length: 7043, dtype: float64"
      ]
     },
     "execution_count": 104,
     "metadata": {},
     "output_type": "execute_result"
    }
   ],
   "source": [
    "# Convert non numerical data to numerical\n",
    "df.SeniorCitizen = df.SeniorCitizen.apply(lambda x: \"No\" if x==0 else \"Yes\")\n",
    "print (df[\"SeniorCitizen\"])\n",
    "# df[\"SeniorCitizen\"] = df.SeniorCitizen.apply(lambda x: \"No\" if x==0 else \"Yes\")\n",
    "df[\"TotalCharges\"]=pd.to_numeric(df.TotalCharges,errors='coerce')\n",
    "df[\"TotalCharges\"]"
   ]
  },
  {
   "cell_type": "code",
   "execution_count": 105,
   "metadata": {},
   "outputs": [
    {
     "name": "stdout",
     "output_type": "stream",
     "text": [
      "gender : ['Female' 'Male']\n",
      "SeniorCitizen : ['No' 'Yes']\n",
      "Partner : ['Yes' 'No']\n",
      "Dependents : ['No' 'Yes']\n",
      "PhoneService : ['No' 'Yes']\n",
      "MultipleLines : ['No phone service' 'No' 'Yes']\n",
      "InternetService : ['DSL' 'Fiber optic' 'No']\n",
      "OnlineSecurity : ['No' 'Yes' 'No internet service']\n",
      "OnlineBackup : ['Yes' 'No' 'No internet service']\n",
      "DeviceProtection : ['No' 'Yes' 'No internet service']\n",
      "TechSupport : ['No' 'Yes' 'No internet service']\n",
      "StreamingTV : ['No' 'Yes' 'No internet service']\n",
      "StreamingMovies : ['No' 'Yes' 'No internet service']\n",
      "Contract : ['Month-to-month' 'One year' 'Two year']\n",
      "PaperlessBilling : ['Yes' 'No']\n",
      "PaymentMethod : ['Electronic check' 'Mailed check' 'Bank transfer (automatic)'\n",
      " 'Credit card (automatic)']\n",
      "Churn : ['No' 'Yes']\n"
     ]
    }
   ],
   "source": [
    "# Return unique values based on a hash table.\n",
    "for col in df:\n",
    "    if (df[col].dtype==\"object\"):\n",
    "        print(col,\":\",df[col].unique())\n"
   ]
  },
  {
   "cell_type": "code",
   "execution_count": 106,
   "metadata": {},
   "outputs": [],
   "source": [
    "for col in df:\n",
    "    if (df[col].dtype==\"object\") and (df[col].nunique()==3):\n",
    "         df[col] = df[col].apply(lambda x: \"No\" if x==\"No internet service\" else x)"
   ]
  },
  {
   "cell_type": "code",
   "execution_count": 107,
   "metadata": {},
   "outputs": [
    {
     "name": "stdout",
     "output_type": "stream",
     "text": [
      "gender : ['Female' 'Male']\n",
      "SeniorCitizen : ['No' 'Yes']\n",
      "Partner : ['Yes' 'No']\n",
      "Dependents : ['No' 'Yes']\n",
      "PhoneService : ['No' 'Yes']\n",
      "MultipleLines : ['No phone service' 'No' 'Yes']\n",
      "InternetService : ['DSL' 'Fiber optic' 'No']\n",
      "OnlineSecurity : ['No' 'Yes']\n",
      "OnlineBackup : ['Yes' 'No']\n",
      "DeviceProtection : ['No' 'Yes']\n",
      "TechSupport : ['No' 'Yes']\n",
      "StreamingTV : ['No' 'Yes']\n",
      "StreamingMovies : ['No' 'Yes']\n",
      "Contract : ['Month-to-month' 'One year' 'Two year']\n",
      "PaperlessBilling : ['Yes' 'No']\n",
      "PaymentMethod : ['Electronic check' 'Mailed check' 'Bank transfer (automatic)'\n",
      " 'Credit card (automatic)']\n",
      "Churn : ['No' 'Yes']\n"
     ]
    }
   ],
   "source": [
    "# Return unique values based on a hash table.\n",
    "\n",
    "for col in df:\n",
    "    if (df[col].dtype==\"object\"):\n",
    "        print(col,\":\",df[col].unique())\n"
   ]
  },
  {
   "cell_type": "code",
   "execution_count": 108,
   "metadata": {},
   "outputs": [],
   "source": [
    "df[\"MultipleLines\"] = df[\"MultipleLines\"].apply(lambda x: \"No\" if x==\"No phone service\" else x)"
   ]
  },
  {
   "cell_type": "code",
   "execution_count": 109,
   "metadata": {},
   "outputs": [
    {
     "name": "stdout",
     "output_type": "stream",
     "text": [
      "gender : ['Female' 'Male']\n",
      "SeniorCitizen : ['No' 'Yes']\n",
      "Partner : ['Yes' 'No']\n",
      "Dependents : ['No' 'Yes']\n",
      "PhoneService : ['No' 'Yes']\n",
      "MultipleLines : ['No' 'Yes']\n",
      "InternetService : ['DSL' 'Fiber optic' 'No']\n",
      "OnlineSecurity : ['No' 'Yes']\n",
      "OnlineBackup : ['Yes' 'No']\n",
      "DeviceProtection : ['No' 'Yes']\n",
      "TechSupport : ['No' 'Yes']\n",
      "StreamingTV : ['No' 'Yes']\n",
      "StreamingMovies : ['No' 'Yes']\n",
      "Contract : ['Month-to-month' 'One year' 'Two year']\n",
      "PaperlessBilling : ['Yes' 'No']\n",
      "PaymentMethod : ['Electronic check' 'Mailed check' 'Bank transfer (automatic)'\n",
      " 'Credit card (automatic)']\n",
      "Churn : ['No' 'Yes']\n"
     ]
    }
   ],
   "source": [
    "for col in df:\n",
    "    if (df[col].dtype==\"object\"):\n",
    "        print(col,\":\",df[col].unique())\n"
   ]
  },
  {
   "cell_type": "code",
   "execution_count": 129,
   "metadata": {},
   "outputs": [
    {
     "data": {
      "image/png": "[encoded data removed]",
      "text/plain": [
       "<Figure size 432x432 with 1 Axes>"
      ]
     },
     "metadata": {},
     "output_type": "display_data"
    }
   ],
   "source": [
    "plt.figure(figsize=(6,6))\n",
    "plt.pie(df['Churn'].value_counts(),labels=df['Churn'].value_counts().index,colors=['blue','red'],autopct='%1.2f%%',explode=(0.1,0))\n",
    "plt.title('Proportions of Customer Churn')\n",
    "plt.show()"
   ]
  },
  {
   "cell_type": "markdown",
   "metadata": {},
   "source": [
    "# Data Analysis, Visualization and Interpretation"
   ]
  },
  {
   "cell_type": "code",
   "execution_count": 110,
   "metadata": {},
   "outputs": [
    {
     "name": "stdout",
     "output_type": "stream",
     "text": [
      "['tenure', 'MonthlyCharges', 'TotalCharges']\n"
     ]
    }
   ],
   "source": [
    "con_vara = [i for i in df.columns if df[i].dtype != \"object\"]\n",
    "print(con_vara)"
   ]
  },
  {
   "cell_type": "code",
   "execution_count": 111,
   "metadata": {},
   "outputs": [
    {
     "data": {
      "image/png": "[encoded data removed]",
      "text/plain": [
       "<Figure size 1080x360 with 3 Axes>"
      ]
     },
     "metadata": {
      "needs_background": "light"
     },
     "output_type": "display_data"
    }
   ],
   "source": [
    "# Plot univariate or bivariate histograms to show distributions of datasets.\n",
    "fig,ax = plt.subplots(1,3,figsize=(15,5))\n",
    "for i,x in enumerate(con_vara):\n",
    "    ax[i].hist(df[x][df.Churn==\"No\"],label=\"Churn=0\",bins=30)\n",
    "    ax[i].hist(df[x][df.Churn==\"Yes\"],label=\"Churn=1\",bins=30)\n",
    "    ax[i].legend()"
   ]
  },
  {
   "cell_type": "code",
   "execution_count": 112,
   "metadata": {},
   "outputs": [
    {
     "data": {
      "image/png": "[encoded data removed]",
      "text/plain": [
       "<Figure size 1080x360 with 3 Axes>"
      ]
     },
     "metadata": {
      "needs_background": "light"
     },
     "output_type": "display_data"
    }
   ],
   "source": [
    "# Box-Plots: continuous variable\n",
    "fig,ax = plt.subplots(1,3,figsize=(15,5))\n",
    "for i,x in enumerate(con_vara):\n",
    "    sns.boxplot(x=df.Churn, y=df[x] ,ax=ax[i],hue=df.gender)\n",
    "    ax[i].legend()"
   ]
  },
  {
   "cell_type": "code",
   "execution_count": 113,
   "metadata": {},
   "outputs": [],
   "source": [
    "# Observations\n",
    "\n",
    "# Total Charges has outliers\n",
    "# Tenure has outliers\n",
    "# Monthyly charges did not have outliers"
   ]
  },
  {
   "cell_type": "code",
   "execution_count": 114,
   "metadata": {},
   "outputs": [
    {
     "name": "stdout",
     "output_type": "stream",
     "text": [
      "['gender', 'SeniorCitizen', 'Partner', 'Dependents', 'PhoneService', 'MultipleLines', 'InternetService', 'OnlineSecurity', 'OnlineBackup', 'DeviceProtection', 'TechSupport', 'StreamingTV', 'StreamingMovies', 'Contract', 'PaperlessBilling', 'PaymentMethod', 'Churn']\n",
      "['gender', 'SeniorCitizen', 'Partner', 'Dependents', 'PhoneService', 'MultipleLines', 'InternetService', 'OnlineSecurity', 'OnlineBackup', 'DeviceProtection', 'TechSupport', 'StreamingTV', 'StreamingMovies', 'Contract', 'PaperlessBilling', 'PaymentMethod']\n"
     ]
    }
   ],
   "source": [
    "# Count-Plots: categorical variable\n",
    "\n",
    "cat_vara = [i for i in df.columns if df[i].dtype == \"object\"]\n",
    "print(cat_vara)\n",
    "cat_vara.pop()\n",
    "print(cat_vara)\n"
   ]
  },
  {
   "cell_type": "code",
   "execution_count": 115,
   "metadata": {},
   "outputs": [
    {
     "data": {
      "image/png": "[encoded data removed]",
      "text/plain": [
       "<Figure size 1440x1440 with 16 Axes>"
      ]
     },
     "metadata": {
      "needs_background": "light"
     },
     "output_type": "display_data"
    }
   ],
   "source": [
    "fig,ax = plt.subplots(4,4,figsize=(20,20))\n",
    "for axi,x in zip(ax.flat,cat_vara):\n",
    "    sns.countplot(x=df.Churn,hue=df[x],ax=axi)"
   ]
  },
  {
   "cell_type": "code",
   "execution_count": 116,
   "metadata": {},
   "outputs": [],
   "source": [
    "# Observations\n",
    "\n",
    "# In gender , female tends more to churn - leave /exit the service\n",
    "# In Age - Young/Youth tends to churn - leave /exit the service\n",
    "# In partener - Individual tends to churn - leave /exit the service\n",
    "# Phone Service - Havving - tends to churn - leave /exit the service\n",
    "# Month to Month -Contract - tends to churn - leave /exit the service"
   ]
  },
  {
   "cell_type": "markdown",
   "metadata": {},
   "source": [
    "# Categorical Data Encoding"
   ]
  },
  {
   "cell_type": "code",
   "execution_count": 117,
   "metadata": {},
   "outputs": [],
   "source": [
    "le = LabelEncoder()\n",
    "for col in df:\n",
    "    if (df[col].dtype==\"object\") and (df[col].nunique()==2):\n",
    "         df[col] = le.fit_transform(df[col])"
   ]
  },
  {
   "cell_type": "code",
   "execution_count": 118,
   "metadata": {},
   "outputs": [
    {
     "name": "stdout",
     "output_type": "stream",
     "text": [
      "<class 'pandas.core.frame.DataFrame'>\n",
      "RangeIndex: 7043 entries, 0 to 7042\n",
      "Data columns (total 20 columns):\n",
      " #   Column            Non-Null Count  Dtype  \n",
      "---  ------            --------------  -----  \n",
      " 0   gender            7043 non-null   int64  \n",
      " 1   SeniorCitizen     7043 non-null   int64  \n",
      " 2   Partner           7043 non-null   int64  \n",
      " 3   Dependents        7043 non-null   int64  \n",
      " 4   tenure            7043 non-null   int64  \n",
      " 5   PhoneService      7043 non-null   int64  \n",
      " 6   MultipleLines     7043 non-null   int64  \n",
      " 7   InternetService   7043 non-null   object \n",
      " 8   OnlineSecurity    7043 non-null   int64  \n",
      " 9   OnlineBackup      7043 non-null   int64  \n",
      " 10  DeviceProtection  7043 non-null   int64  \n",
      " 11  TechSupport       7043 non-null   int64  \n",
      " 12  StreamingTV       7043 non-null   int64  \n",
      " 13  StreamingMovies   7043 non-null   int64  \n",
      " 14  Contract          7043 non-null   object \n",
      " 15  PaperlessBilling  7043 non-null   int64  \n",
      " 16  PaymentMethod     7043 non-null   object \n",
      " 17  MonthlyCharges    7043 non-null   float64\n",
      " 18  TotalCharges      7032 non-null   float64\n",
      " 19  Churn             7043 non-null   int64  \n",
      "dtypes: float64(2), int64(15), object(3)\n",
      "memory usage: 1.1+ MB\n"
     ]
    }
   ],
   "source": [
    "df.info()"
   ]
  },
  {
   "cell_type": "code",
   "execution_count": 119,
   "metadata": {},
   "outputs": [
    {
     "name": "stdout",
     "output_type": "stream",
     "text": [
      "<class 'pandas.core.frame.DataFrame'>\n",
      "RangeIndex: 7043 entries, 0 to 7042\n",
      "Data columns (total 24 columns):\n",
      " #   Column                                 Non-Null Count  Dtype  \n",
      "---  ------                                 --------------  -----  \n",
      " 0   gender                                 7043 non-null   int64  \n",
      " 1   SeniorCitizen                          7043 non-null   int64  \n",
      " 2   Partner                                7043 non-null   int64  \n",
      " 3   Dependents                             7043 non-null   int64  \n",
      " 4   tenure                                 7043 non-null   int64  \n",
      " 5   PhoneService                           7043 non-null   int64  \n",
      " 6   MultipleLines                          7043 non-null   int64  \n",
      " 7   OnlineSecurity                         7043 non-null   int64  \n",
      " 8   OnlineBackup                           7043 non-null   int64  \n",
      " 9   DeviceProtection                       7043 non-null   int64  \n",
      " 10  TechSupport                            7043 non-null   int64  \n",
      " 11  StreamingTV                            7043 non-null   int64  \n",
      " 12  StreamingMovies                        7043 non-null   int64  \n",
      " 13  PaperlessBilling                       7043 non-null   int64  \n",
      " 14  MonthlyCharges                         7043 non-null   float64\n",
      " 15  TotalCharges                           7032 non-null   float64\n",
      " 16  Churn                                  7043 non-null   int64  \n",
      " 17  InternetService_Fiber optic            7043 non-null   bool   \n",
      " 18  InternetService_No                     7043 non-null   bool   \n",
      " 19  Contract_One year                      7043 non-null   bool   \n",
      " 20  Contract_Two year                      7043 non-null   bool   \n",
      " 21  PaymentMethod_Credit card (automatic)  7043 non-null   bool   \n",
      " 22  PaymentMethod_Electronic check         7043 non-null   bool   \n",
      " 23  PaymentMethod_Mailed check             7043 non-null   bool   \n",
      "dtypes: bool(7), float64(2), int64(15)\n",
      "memory usage: 983.7 KB\n"
     ]
    }
   ],
   "source": [
    "# Convert categorical variable into dummy/indicator variables.\n",
    "df = pd.get_dummies(df,columns=[i for i in df.columns if df[i].dtypes=='object'],drop_first=True)  \n",
    "df.info()"
   ]
  },
  {
   "cell_type": "markdown",
   "metadata": {},
   "source": [
    "# Scalling and Spliting"
   ]
  },
  {
   "cell_type": "code",
   "execution_count": 120,
   "metadata": {},
   "outputs": [],
   "source": [
    "df.dropna(inplace=True)"
   ]
  },
  {
   "cell_type": "code",
   "execution_count": 121,
   "metadata": {},
   "outputs": [
    {
     "data": {
      "text/plain": [
       "Churn\n",
       "0    5163\n",
       "1    5000\n",
       "Name: count, dtype: int64"
      ]
     },
     "execution_count": 121,
     "metadata": {},
     "output_type": "execute_result"
    }
   ],
   "source": [
    "\n",
    "from sklearn.utils import resample\n",
    "df_majority = df[(df[\"Churn\"]==0)]\n",
    "df_minority = df[(df[\"Churn\"]==1)]\n",
    "df_minority_upsampled = resample(df_minority,replace=True,n_samples=5000,random_state=42)\n",
    "df = pd.concat([df_minority_upsampled,df_majority])\n",
    "df[\"Churn\"].value_counts()"
   ]
  },
  {
   "cell_type": "code",
   "execution_count": 122,
   "metadata": {},
   "outputs": [
    {
     "data": {
      "text/plain": [
       "array([[-1.01757045, -0.4880392 ,  1.11622885, ..., -0.47765793,\n",
       "         1.19638611, -0.51340358],\n",
       "       [-1.01757045, -0.4880392 , -0.89587364, ..., -0.47765793,\n",
       "         1.19638611, -0.51340358],\n",
       "       [ 0.98273294, -0.4880392 , -0.89587364, ..., -0.47765793,\n",
       "         1.19638611, -0.51340358],\n",
       "       ...,\n",
       "       [-1.01757045, -0.4880392 ,  1.11622885, ...,  2.0935484 ,\n",
       "        -0.83585056, -0.51340358],\n",
       "       [-1.01757045, -0.4880392 ,  1.11622885, ..., -0.47765793,\n",
       "         1.19638611, -0.51340358],\n",
       "       [ 0.98273294, -0.4880392 , -0.89587364, ..., -0.47765793,\n",
       "        -0.83585056, -0.51340358]])"
      ]
     },
     "execution_count": 122,
     "metadata": {},
     "output_type": "execute_result"
    }
   ],
   "source": [
    "# Standardize features by removing the mean and scaling to unit variance\n",
    "from sklearn.preprocessing import StandardScaler\n",
    "scaler = StandardScaler()\n",
    "scaler.fit_transform(df)\n"
   ]
  },
  {
   "cell_type": "code",
   "execution_count": 123,
   "metadata": {},
   "outputs": [
    {
     "name": "stdout",
     "output_type": "stream",
     "text": [
      "train data length: 7114 --- (7114, 23)\n",
      "test data length: 3049 --- (3049, 23)\n"
     ]
    },
    {
     "data": {
      "text/plain": [
       "23"
      ]
     },
     "execution_count": 123,
     "metadata": {},
     "output_type": "execute_result"
    }
   ],
   "source": [
    "# Split arrays or matrices into random train and test subsets.\n",
    "X=df.drop(['Churn'],axis='columns')\n",
    "Y=df['Churn']\n",
    "X_train,X_test,Y_train,Y_test=train_test_split(X,Y,test_size=0.30)\n",
    "print(\"train data length:\",len(X_train),'---',X_train.shape)\n",
    "print(\"test data length:\",len(X_test),'---',X_test.shape)\n",
    "len(X_train.columns)"
   ]
  },
  {
   "cell_type": "markdown",
   "metadata": {},
   "source": [
    "# Model - NN"
   ]
  },
  {
   "cell_type": "code",
   "execution_count": 124,
   "metadata": {},
   "outputs": [
    {
     "name": "stderr",
     "output_type": "stream",
     "text": [
      "<ipython-input-124-1d647ec4671e>:4: DeprecationWarning: `np.float` is a deprecated alias for the builtin `float`. To silence this warning, use `float` by itself. Doing this will not modify any behavior and is safe. If you specifically wanted the numpy scalar type, use `np.float64` here.\n",
      "Deprecated in NumPy 1.20; for more details and guidance: https://numpy.org/devdocs/release/1.20.0-notes.html#deprecations\n",
      "  X_train=np.asarray(X_train).astype(np.float)\n",
      "<ipython-input-124-1d647ec4671e>:5: DeprecationWarning: `np.float` is a deprecated alias for the builtin `float`. To silence this warning, use `float` by itself. Doing this will not modify any behavior and is safe. If you specifically wanted the numpy scalar type, use `np.float64` here.\n",
      "Deprecated in NumPy 1.20; for more details and guidance: https://numpy.org/devdocs/release/1.20.0-notes.html#deprecations\n",
      "  Y_train=np.asarray(Y_train).astype(np.float)\n",
      "<ipython-input-124-1d647ec4671e>:7: DeprecationWarning: `np.float` is a deprecated alias for the builtin `float`. To silence this warning, use `float` by itself. Doing this will not modify any behavior and is safe. If you specifically wanted the numpy scalar type, use `np.float64` here.\n",
      "Deprecated in NumPy 1.20; for more details and guidance: https://numpy.org/devdocs/release/1.20.0-notes.html#deprecations\n",
      "  X_test=np.asarray(X_test).astype(np.float)\n",
      "<ipython-input-124-1d647ec4671e>:8: DeprecationWarning: `np.float` is a deprecated alias for the builtin `float`. To silence this warning, use `float` by itself. Doing this will not modify any behavior and is safe. If you specifically wanted the numpy scalar type, use `np.float64` here.\n",
      "Deprecated in NumPy 1.20; for more details and guidance: https://numpy.org/devdocs/release/1.20.0-notes.html#deprecations\n",
      "  Y_test=np.asarray(Y_test).astype(np.float)\n"
     ]
    },
    {
     "name": "stdout",
     "output_type": "stream",
     "text": [
      "Epoch 1/100\n",
      "223/223 [==============================] - 1s 3ms/step - loss: 2.8008 - accuracy: 0.6594\n",
      "Epoch 2/100\n",
      "223/223 [==============================] - 1s 3ms/step - loss: 1.1821 - accuracy: 0.6934\n",
      "Epoch 3/100\n",
      "223/223 [==============================] - 1s 3ms/step - loss: 1.2583 - accuracy: 0.7017\n",
      "Epoch 4/100\n",
      "223/223 [==============================] - 1s 3ms/step - loss: 1.4689 - accuracy: 0.6916\n",
      "Epoch 5/100\n",
      "223/223 [==============================] - 1s 3ms/step - loss: 1.0398 - accuracy: 0.7114\n",
      "Epoch 6/100\n",
      "223/223 [==============================] - 1s 3ms/step - loss: 1.2636 - accuracy: 0.6986\n",
      "Epoch 7/100\n",
      "223/223 [==============================] - 1s 3ms/step - loss: 1.3960 - accuracy: 0.6889\n",
      "Epoch 8/100\n",
      "223/223 [==============================] - 1s 4ms/step - loss: 1.0429 - accuracy: 0.7179\n",
      "Epoch 9/100\n",
      "223/223 [==============================] - 1s 3ms/step - loss: 1.0566 - accuracy: 0.7072\n",
      "Epoch 10/100\n",
      "223/223 [==============================] - 1s 3ms/step - loss: 1.0990 - accuracy: 0.7076\n",
      "Epoch 11/100\n",
      "223/223 [==============================] - 1s 3ms/step - loss: 1.3831 - accuracy: 0.6990\n",
      "Epoch 12/100\n",
      "223/223 [==============================] - 1s 3ms/step - loss: 0.9564 - accuracy: 0.7200\n",
      "Epoch 13/100\n",
      "223/223 [==============================] - 1s 3ms/step - loss: 0.7572 - accuracy: 0.7297\n",
      "Epoch 14/100\n",
      "223/223 [==============================] - 1s 4ms/step - loss: 0.9012 - accuracy: 0.7175\n",
      "Epoch 15/100\n",
      "223/223 [==============================] - 1s 3ms/step - loss: 0.7188 - accuracy: 0.7333\n",
      "Epoch 16/100\n",
      "223/223 [==============================] - 1s 3ms/step - loss: 0.8022 - accuracy: 0.7256\n",
      "Epoch 17/100\n",
      "223/223 [==============================] - 1s 3ms/step - loss: 0.7762 - accuracy: 0.7267\n",
      "Epoch 18/100\n",
      "223/223 [==============================] - 1s 3ms/step - loss: 0.8247 - accuracy: 0.7300\n",
      "Epoch 19/100\n",
      "223/223 [==============================] - 1s 3ms/step - loss: 0.8345 - accuracy: 0.7220\n",
      "Epoch 20/100\n",
      "223/223 [==============================] - 1s 3ms/step - loss: 0.7902 - accuracy: 0.7269\n",
      "Epoch 21/100\n",
      "223/223 [==============================] - 1s 5ms/step - loss: 0.8796 - accuracy: 0.7272\n",
      "Epoch 22/100\n",
      "223/223 [==============================] - 1s 4ms/step - loss: 0.9689 - accuracy: 0.7144\n",
      "Epoch 23/100\n",
      "223/223 [==============================] - 1s 4ms/step - loss: 0.7317 - accuracy: 0.7304\n",
      "Epoch 24/100\n",
      "223/223 [==============================] - 1s 4ms/step - loss: 0.8721 - accuracy: 0.7176\n",
      "Epoch 25/100\n",
      "223/223 [==============================] - 1s 3ms/step - loss: 1.0080 - accuracy: 0.7177\n",
      "Epoch 26/100\n",
      "223/223 [==============================] - 1s 3ms/step - loss: 0.6893 - accuracy: 0.7369\n",
      "Epoch 27/100\n",
      "223/223 [==============================] - 1s 3ms/step - loss: 0.9689 - accuracy: 0.7052\n",
      "Epoch 28/100\n",
      "223/223 [==============================] - 1s 4ms/step - loss: 0.8744 - accuracy: 0.7168\n",
      "Epoch 29/100\n",
      "223/223 [==============================] - 1s 3ms/step - loss: 0.6769 - accuracy: 0.7369\n",
      "Epoch 30/100\n",
      "223/223 [==============================] - 1s 3ms/step - loss: 0.9194 - accuracy: 0.7151\n",
      "Epoch 31/100\n",
      "223/223 [==============================] - 1s 3ms/step - loss: 0.6579 - accuracy: 0.7402\n",
      "Epoch 32/100\n",
      "223/223 [==============================] - 1s 3ms/step - loss: 0.6462 - accuracy: 0.7336\n",
      "Epoch 33/100\n",
      "223/223 [==============================] - 1s 3ms/step - loss: 0.8743 - accuracy: 0.7248\n",
      "Epoch 34/100\n",
      "223/223 [==============================] - 1s 3ms/step - loss: 0.6137 - accuracy: 0.7398\n",
      "Epoch 35/100\n",
      "223/223 [==============================] - 1s 3ms/step - loss: 0.6797 - accuracy: 0.7353\n",
      "Epoch 36/100\n",
      "223/223 [==============================] - 1s 3ms/step - loss: 0.6797 - accuracy: 0.7260\n",
      "Epoch 37/100\n",
      "223/223 [==============================] - 1s 4ms/step - loss: 0.7121 - accuracy: 0.7288\n",
      "Epoch 38/100\n",
      "223/223 [==============================] - 1s 3ms/step - loss: 0.6440 - accuracy: 0.7367\n",
      "Epoch 39/100\n",
      "223/223 [==============================] - 1s 3ms/step - loss: 0.6845 - accuracy: 0.7398\n",
      "Epoch 40/100\n",
      "223/223 [==============================] - 1s 3ms/step - loss: 0.7300 - accuracy: 0.7315\n",
      "Epoch 41/100\n",
      "223/223 [==============================] - 1s 4ms/step - loss: 0.7820 - accuracy: 0.7252\n",
      "Epoch 42/100\n",
      "223/223 [==============================] - 1s 4ms/step - loss: 0.7677 - accuracy: 0.7229\n",
      "Epoch 43/100\n",
      "223/223 [==============================] - 1s 4ms/step - loss: 0.6110 - accuracy: 0.7432\n",
      "Epoch 44/100\n",
      "223/223 [==============================] - 1s 4ms/step - loss: 0.6949 - accuracy: 0.7269\n",
      "Epoch 45/100\n",
      "223/223 [==============================] - 1s 5ms/step - loss: 0.5969 - accuracy: 0.7446\n",
      "Epoch 46/100\n",
      "223/223 [==============================] - 1s 4ms/step - loss: 0.6416 - accuracy: 0.7409\n",
      "Epoch 47/100\n",
      "223/223 [==============================] - 1s 4ms/step - loss: 0.6768 - accuracy: 0.7364\n",
      "Epoch 48/100\n",
      "223/223 [==============================] - 1s 5ms/step - loss: 0.6502 - accuracy: 0.7357\n",
      "Epoch 49/100\n",
      "223/223 [==============================] - 1s 5ms/step - loss: 0.6329 - accuracy: 0.7378: 0s - loss: 0\n",
      "Epoch 50/100\n",
      "223/223 [==============================] - 1s 4ms/step - loss: 0.6217 - accuracy: 0.7390\n",
      "Epoch 51/100\n",
      "223/223 [==============================] - 1s 4ms/step - loss: 0.6596 - accuracy: 0.7360\n",
      "Epoch 52/100\n",
      "223/223 [==============================] - 1s 4ms/step - loss: 0.5449 - accuracy: 0.7487\n",
      "Epoch 53/100\n",
      "223/223 [==============================] - 1s 5ms/step - loss: 0.6683 - accuracy: 0.7356\n",
      "Epoch 54/100\n",
      "223/223 [==============================] - 1s 4ms/step - loss: 0.7865 - accuracy: 0.7198\n",
      "Epoch 55/100\n",
      "223/223 [==============================] - 1s 6ms/step - loss: 0.6289 - accuracy: 0.7340\n",
      "Epoch 56/100\n",
      "223/223 [==============================] - 1s 5ms/step - loss: 0.5609 - accuracy: 0.7459\n",
      "Epoch 57/100\n",
      "223/223 [==============================] - 1s 5ms/step - loss: 0.6208 - accuracy: 0.7421\n",
      "Epoch 58/100\n",
      "223/223 [==============================] - 1s 6ms/step - loss: 0.5602 - accuracy: 0.7474\n",
      "Epoch 59/100\n",
      "223/223 [==============================] - 1s 6ms/step - loss: 0.5782 - accuracy: 0.7512\n",
      "Epoch 60/100\n",
      "223/223 [==============================] - 1s 4ms/step - loss: 0.5363 - accuracy: 0.7550\n",
      "Epoch 61/100\n",
      "223/223 [==============================] - 1s 5ms/step - loss: 0.6426 - accuracy: 0.7300\n",
      "Epoch 62/100\n",
      "223/223 [==============================] - 1s 5ms/step - loss: 0.5785 - accuracy: 0.7412\n",
      "Epoch 63/100\n",
      "223/223 [==============================] - 1s 5ms/step - loss: 0.5625 - accuracy: 0.7470\n",
      "Epoch 64/100\n",
      "223/223 [==============================] - 1s 5ms/step - loss: 0.5864 - accuracy: 0.7429\n",
      "Epoch 65/100\n",
      "223/223 [==============================] - 1s 6ms/step - loss: 0.5684 - accuracy: 0.7489: 0s - loss: 0.5844 - accuracy: 0.74 - ETA: 0s - loss: 0.5844 - accura\n",
      "Epoch 66/100\n",
      "223/223 [==============================] - 1s 5ms/step - loss: 0.5847 - accuracy: 0.7435\n",
      "Epoch 67/100\n",
      "223/223 [==============================] - 1s 5ms/step - loss: 0.5520 - accuracy: 0.7464\n",
      "Epoch 68/100\n",
      "223/223 [==============================] - 1s 5ms/step - loss: 0.5783 - accuracy: 0.7513\n",
      "Epoch 69/100\n",
      "223/223 [==============================] - 1s 5ms/step - loss: 0.5518 - accuracy: 0.7432\n",
      "Epoch 70/100\n",
      "223/223 [==============================] - 1s 6ms/step - loss: 0.5442 - accuracy: 0.7502\n",
      "Epoch 71/100\n",
      "223/223 [==============================] - 1s 5ms/step - loss: 0.5836 - accuracy: 0.7387\n",
      "Epoch 72/100\n",
      "223/223 [==============================] - 1s 5ms/step - loss: 0.5981 - accuracy: 0.7405\n",
      "Epoch 73/100\n",
      "223/223 [==============================] - 1s 5ms/step - loss: 0.5587 - accuracy: 0.7440\n",
      "Epoch 74/100\n",
      "223/223 [==============================] - 1s 5ms/step - loss: 0.5414 - accuracy: 0.7487\n",
      "Epoch 75/100\n",
      "223/223 [==============================] - 1s 5ms/step - loss: 0.5476 - accuracy: 0.7504\n",
      "Epoch 76/100\n",
      "223/223 [==============================] - 1s 5ms/step - loss: 0.5432 - accuracy: 0.7513\n",
      "Epoch 77/100\n",
      "223/223 [==============================] - 1s 5ms/step - loss: 0.5344 - accuracy: 0.7504\n",
      "Epoch 78/100\n",
      "223/223 [==============================] - 1s 6ms/step - loss: 0.5539 - accuracy: 0.7475\n",
      "Epoch 79/100\n",
      "223/223 [==============================] - 1s 5ms/step - loss: 0.5266 - accuracy: 0.7551\n",
      "Epoch 80/100\n"
     ]
    },
    {
     "name": "stdout",
     "output_type": "stream",
     "text": [
      "223/223 [==============================] - 1s 3ms/step - loss: 0.5822 - accuracy: 0.7461\n",
      "Epoch 81/100\n",
      "223/223 [==============================] - 1s 3ms/step - loss: 0.5891 - accuracy: 0.7423\n",
      "Epoch 82/100\n",
      "223/223 [==============================] - 1s 4ms/step - loss: 0.5056 - accuracy: 0.7627\n",
      "Epoch 83/100\n",
      "223/223 [==============================] - 1s 3ms/step - loss: 0.5107 - accuracy: 0.7534\n",
      "Epoch 84/100\n",
      "223/223 [==============================] - 1s 4ms/step - loss: 0.5249 - accuracy: 0.7515\n",
      "Epoch 85/100\n",
      "223/223 [==============================] - 1s 3ms/step - loss: 0.5182 - accuracy: 0.7513\n",
      "Epoch 86/100\n",
      "223/223 [==============================] - 1s 3ms/step - loss: 0.5206 - accuracy: 0.7572\n",
      "Epoch 87/100\n",
      "223/223 [==============================] - 1s 3ms/step - loss: 0.5229 - accuracy: 0.7543\n",
      "Epoch 88/100\n",
      "223/223 [==============================] - 1s 3ms/step - loss: 0.5101 - accuracy: 0.7565\n",
      "Epoch 89/100\n",
      "223/223 [==============================] - 1s 4ms/step - loss: 0.5645 - accuracy: 0.7429\n",
      "Epoch 90/100\n",
      "223/223 [==============================] - 1s 3ms/step - loss: 0.5145 - accuracy: 0.7582\n",
      "Epoch 91/100\n",
      "223/223 [==============================] - 1s 3ms/step - loss: 0.5059 - accuracy: 0.7619\n",
      "Epoch 92/100\n",
      "223/223 [==============================] - 1s 3ms/step - loss: 0.5222 - accuracy: 0.7498\n",
      "Epoch 93/100\n",
      "223/223 [==============================] - 1s 3ms/step - loss: 0.5142 - accuracy: 0.7529\n",
      "Epoch 94/100\n",
      "223/223 [==============================] - 1s 3ms/step - loss: 0.5179 - accuracy: 0.7532\n",
      "Epoch 95/100\n",
      "223/223 [==============================] - 1s 3ms/step - loss: 0.4991 - accuracy: 0.7581\n",
      "Epoch 96/100\n",
      "223/223 [==============================] - 1s 3ms/step - loss: 0.5003 - accuracy: 0.7616\n",
      "Epoch 97/100\n",
      "223/223 [==============================] - 1s 3ms/step - loss: 0.4952 - accuracy: 0.7653\n",
      "Epoch 98/100\n",
      "223/223 [==============================] - 1s 2ms/step - loss: 0.5141 - accuracy: 0.7543\n",
      "Epoch 99/100\n",
      "223/223 [==============================] - 1s 3ms/step - loss: 0.4942 - accuracy: 0.7593\n",
      "Epoch 100/100\n",
      "223/223 [==============================] - 1s 3ms/step - loss: 0.5168 - accuracy: 0.7578\n"
     ]
    },
    {
     "data": {
      "text/plain": [
       "<keras.callbacks.History at 0x7fe2de089550>"
      ]
     },
     "execution_count": 124,
     "metadata": {},
     "output_type": "execute_result"
    }
   ],
   "source": [
    "import tensorflow as tf\n",
    "from tensorflow import keras\n",
    "\n",
    "X_train=np.asarray(X_train).astype(np.float)\n",
    "Y_train=np.asarray(Y_train).astype(np.float)\n",
    "\n",
    "X_test=np.asarray(X_test).astype(np.float)\n",
    "Y_test=np.asarray(Y_test).astype(np.float)\n",
    "\n",
    "model = keras.Sequential([\n",
    "    keras.layers.Dense(64, input_shape=(23,), activation='relu'),\n",
    "    keras.layers.Dense(32, activation='relu'),\n",
    "    keras.layers.Dense(1, activation='sigmoid')\n",
    "])\n",
    "\n",
    "\n",
    "model.compile(optimizer='adam',\n",
    "              loss='binary_crossentropy',\n",
    "              metrics=['accuracy'])\n",
    "\n",
    "model.fit(X_train, Y_train, epochs=100)"
   ]
  },
  {
   "cell_type": "code",
   "execution_count": 125,
   "metadata": {},
   "outputs": [
    {
     "name": "stdout",
     "output_type": "stream",
     "text": [
      "Model: \"sequential_5\"\n",
      "_________________________________________________________________\n",
      " Layer (type)                Output Shape              Param #   \n",
      "=================================================================\n",
      " dense_15 (Dense)            (None, 64)                1536      \n",
      "                                                                 \n",
      " dense_16 (Dense)            (None, 32)                2080      \n",
      "                                                                 \n",
      " dense_17 (Dense)            (None, 1)                 33        \n",
      "                                                                 \n",
      "=================================================================\n",
      "Total params: 3,649\n",
      "Trainable params: 3,649\n",
      "Non-trainable params: 0\n",
      "_________________________________________________________________\n",
      "None\n"
     ]
    },
    {
     "name": "stderr",
     "output_type": "stream",
     "text": [
      "<ipython-input-125-b05a9e24e542>:2: DeprecationWarning: `np.float` is a deprecated alias for the builtin `float`. To silence this warning, use `float` by itself. Doing this will not modify any behavior and is safe. If you specifically wanted the numpy scalar type, use `np.float64` here.\n",
      "Deprecated in NumPy 1.20; for more details and guidance: https://numpy.org/devdocs/release/1.20.0-notes.html#deprecations\n",
      "  X_test=np.asarray(X_test).astype(np.float)\n",
      "<ipython-input-125-b05a9e24e542>:4: DeprecationWarning: `np.float` is a deprecated alias for the builtin `float`. To silence this warning, use `float` by itself. Doing this will not modify any behavior and is safe. If you specifically wanted the numpy scalar type, use `np.float64` here.\n",
      "Deprecated in NumPy 1.20; for more details and guidance: https://numpy.org/devdocs/release/1.20.0-notes.html#deprecations\n",
      "  Y_test=np.asarray(Y_test).astype(np.float)\n"
     ]
    },
    {
     "name": "stdout",
     "output_type": "stream",
     "text": [
      "96/96 [==============================] - 1s 2ms/step - loss: 0.5317 - accuracy: 0.7625\n"
     ]
    },
    {
     "data": {
      "text/plain": [
       "[0.5317384004592896, 0.762545108795166]"
      ]
     },
     "execution_count": 125,
     "metadata": {},
     "output_type": "execute_result"
    }
   ],
   "source": [
    "print(model.summary())\n",
    "X_test=np.asarray(X_test).astype(np.float)\n",
    "\n",
    "Y_test=np.asarray(Y_test).astype(np.float)\n",
    "\n",
    "model.evaluate(X_test, Y_test)"
   ]
  },
  {
   "cell_type": "code",
   "execution_count": 126,
   "metadata": {},
   "outputs": [
    {
     "name": "stdout",
     "output_type": "stream",
     "text": [
      "              precision    recall  f1-score   support\n",
      "\n",
      "         0.0       0.73      0.83      0.78      1542\n",
      "         1.0       0.80      0.69      0.74      1507\n",
      "\n",
      "    accuracy                           0.76      3049\n",
      "   macro avg       0.77      0.76      0.76      3049\n",
      "weighted avg       0.77      0.76      0.76      3049\n",
      "\n"
     ]
    }
   ],
   "source": [
    "from sklearn.metrics import confusion_matrix , classification_report\n",
    "yp = model.predict(X_test)\n",
    "Y_pred = []\n",
    "for element in yp:\n",
    "    if element > 0.5:\n",
    "        Y_pred.append(1)\n",
    "    else:\n",
    "        Y_pred.append(0)\n",
    "print(classification_report(Y_test,Y_pred))"
   ]
  },
  {
   "cell_type": "code",
   "execution_count": 127,
   "metadata": {},
   "outputs": [
    {
     "data": {
      "text/plain": [
       "Text(69.0, 0.5, 'Truth')"
      ]
     },
     "execution_count": 127,
     "metadata": {},
     "output_type": "execute_result"
    },
    {
     "data": {
      "image/png": "[encoded data removed]",
      "text/plain": [
       "<Figure size 720x504 with 2 Axes>"
      ]
     },
     "metadata": {
      "needs_background": "light"
     },
     "output_type": "display_data"
    }
   ],
   "source": [
    "import seaborn as sn\n",
    "cm = tf.math.confusion_matrix(labels=Y_test,predictions=Y_pred)\n",
    "\n",
    "plt.figure(figsize = (10,7))\n",
    "sn.heatmap(cm, annot=True, fmt='d')\n",
    "plt.xlabel('Predicted')\n",
    "plt.ylabel('Truth')"
   ]
  },
  {
   "cell_type": "code",
   "execution_count": null,
   "metadata": {},
   "outputs": [],
   "source": [
    "# Summary\n",
    "# Very simple neural network with hidden layers\n",
    "\n",
    "# monthly contract, tenure and total charges are the most important predictor variables to predict churn.\n",
    "# NN -Accuracy - 0.72 ,loss=0.75\n",
    "# F1-Score: 0.76,0.69"
   ]
  }
 ],
 "metadata": {
  "kernelspec": {
   "display_name": "Python 3",
   "language": "python",
   "name": "python3"
  },
  "language_info": {
   "codemirror_mode": {
    "name": "ipython",
    "version": 3
   },
   "file_extension": ".py",
   "mimetype": "text/x-python",
   "name": "python",
   "nbconvert_exporter": "python",
   "pygments_lexer": "ipython3",
   "version": "3.8.5"
  }
 },
 "nbformat": 4,
 "nbformat_minor": 4
}
