{
 "cells": [
  {
   "cell_type": "code",
   "execution_count": 19,
   "metadata": {},
   "outputs": [
    {
     "name": "stdout",
     "output_type": "stream",
     "text": [
      "<bound method NDFrame.describe of             日期      销量\n",
      "0   2015-03-01    51.0\n",
      "1   2015-02-28  2618.2\n",
      "2   2015-02-27  2608.4\n",
      "3   2015-02-26  2651.9\n",
      "4   2015-02-25  3442.1\n",
      "..         ...     ...\n",
      "196 2014-08-06  2915.8\n",
      "197 2014-08-05  2618.1\n",
      "198 2014-08-04  2993.0\n",
      "199 2014-08-03  3436.4\n",
      "200 2014-08-02  2261.7\n",
      "\n",
      "[201 rows x 2 columns]>\n",
      "            日期      销量\n",
      "0   2015-03-01     NaN\n",
      "1   2015-02-28  2618.2\n",
      "2   2015-02-27  2608.4\n",
      "3   2015-02-26  2651.9\n",
      "4   2015-02-25  3442.1\n",
      "..         ...     ...\n",
      "196 2014-08-06  2915.8\n",
      "197 2014-08-05  2618.1\n",
      "198 2014-08-04  2993.0\n",
      "199 2014-08-03  3436.4\n",
      "200 2014-08-02  2261.7\n",
      "\n",
      "[201 rows x 2 columns] ---\n",
      "日期 ---i\n",
      "销量 ---i\n"
     ]
    },
    {
     "name": "stderr",
     "output_type": "stream",
     "text": [
      "<ipython-input-19-7b20b0125bb2>:11: SettingWithCopyWarning: \n",
      "A value is trying to be set on a copy of a slice from a DataFrame\n",
      "\n",
      "See the caveats in the documentation: https://pandas.pydata.org/pandas-docs/stable/user_guide/indexing.html#returning-a-view-versus-a-copy\n",
      "  data['销量'][(data['销量'] < 400) | (data['销量'] > 5000)] = None  # 过滤异常值，将其变为空值\n",
      "<ipython-input-19-7b20b0125bb2>:32: SettingWithCopyWarning: \n",
      "A value is trying to be set on a copy of a slice from a DataFrame\n",
      "\n",
      "See the caveats in the documentation: https://pandas.pydata.org/pandas-docs/stable/user_guide/indexing.html#returning-a-view-versus-a-copy\n",
      "  data[i][j] = ployinterp_column(data[i], j)\n"
     ]
    }
   ],
   "source": [
    "# -*- coding: utf-8 -*-\n",
    "\n",
    "import pandas as pd  # 导入数据分析库Pandas\n",
    "from scipy.interpolate import lagrange  # 导入拉格朗日插值函数\n",
    "\n",
    "inputfile = '../data/catering_sale.xls'  # 销量数据路径\n",
    "outputfile = '../tmp/sales.xls'  # 输出数据路径\n",
    "\n",
    "data = pd.read_excel(inputfile)  # 读入数据\n",
    "print(data.describe)\n",
    "data['销量'][(data['销量'] < 400) | (data['销量'] > 5000)] = None  # 过滤异常值，将其变为空值\n",
    "\n",
    "print (data,'---')\n",
    "\n",
    "# 自定义列向量插值函数\n",
    "# s为列向量，n为被插值的位置，k为取前后的数据个数，默认为5\n",
    "def ployinterp_column(s, n, k=5):\n",
    "#   print (s,'---s')\n",
    "#   print (list(range(n-k, n)),'---')\n",
    "#   print (list(range(n+1, n+1+k)),'--list')\n",
    "#   print (list(range(n-k, n)) + list(range(n+1, n+1+k)))\n",
    "  y = s.iloc[list(range(n-k, n)) + list(range(n+1, n+1+k))]  # 取数\n",
    "#   print (y,'---y')\n",
    "  y = y[y.notnull()]  # 剔除空值\n",
    "  return lagrange(y.index, list(y))(n)  # 插值并返回插值结果\n",
    "\n",
    "# 逐个元素判断是否需要插值\n",
    "for i in data.columns:\n",
    "  print (i,'---i')\n",
    "  for j in range(len(data)):\n",
    "    if (data[i].isnull())[j]:  # 如果为空即插值。\n",
    "      data[i][j] = ployinterp_column(data[i], j)\n",
    "\n",
    "data.to_excel(outputfile)  # 输出结果，写入文件"
   ]
  },
  {
   "cell_type": "code",
   "execution_count": 16,
   "metadata": {},
   "outputs": [
    {
     "name": "stdout",
     "output_type": "stream",
     "text": [
      "     0    1    2     3\n",
      "0   78  521  602  2863\n",
      "1  144 -600 -521  2245\n",
      "2   95 -457  468 -1283\n",
      "3   69  596  695  1054\n",
      "4  190  527  691  2051\n",
      "5  101  403  470  2487\n",
      "6  146  413  435  2571\n"
     ]
    },
    {
     "data": {
      "text/html": [
       "<div>\n",
       "<style scoped>\n",
       "    .dataframe tbody tr th:only-of-type {\n",
       "        vertical-align: middle;\n",
       "    }\n",
       "\n",
       "    .dataframe tbody tr th {\n",
       "        vertical-align: top;\n",
       "    }\n",
       "\n",
       "    .dataframe thead th {\n",
       "        text-align: right;\n",
       "    }\n",
       "</style>\n",
       "<table border=\"1\" class=\"dataframe\">\n",
       "  <thead>\n",
       "    <tr style=\"text-align: right;\">\n",
       "      <th></th>\n",
       "      <th>0</th>\n",
       "      <th>1</th>\n",
       "      <th>2</th>\n",
       "      <th>3</th>\n",
       "    </tr>\n",
       "  </thead>\n",
       "  <tbody>\n",
       "    <tr>\n",
       "      <th>0</th>\n",
       "      <td>0.078</td>\n",
       "      <td>0.521</td>\n",
       "      <td>0.602</td>\n",
       "      <td>0.2863</td>\n",
       "    </tr>\n",
       "    <tr>\n",
       "      <th>1</th>\n",
       "      <td>0.144</td>\n",
       "      <td>-0.600</td>\n",
       "      <td>-0.521</td>\n",
       "      <td>0.2245</td>\n",
       "    </tr>\n",
       "    <tr>\n",
       "      <th>2</th>\n",
       "      <td>0.095</td>\n",
       "      <td>-0.457</td>\n",
       "      <td>0.468</td>\n",
       "      <td>-0.1283</td>\n",
       "    </tr>\n",
       "    <tr>\n",
       "      <th>3</th>\n",
       "      <td>0.069</td>\n",
       "      <td>0.596</td>\n",
       "      <td>0.695</td>\n",
       "      <td>0.1054</td>\n",
       "    </tr>\n",
       "    <tr>\n",
       "      <th>4</th>\n",
       "      <td>0.190</td>\n",
       "      <td>0.527</td>\n",
       "      <td>0.691</td>\n",
       "      <td>0.2051</td>\n",
       "    </tr>\n",
       "    <tr>\n",
       "      <th>5</th>\n",
       "      <td>0.101</td>\n",
       "      <td>0.403</td>\n",
       "      <td>0.470</td>\n",
       "      <td>0.2487</td>\n",
       "    </tr>\n",
       "    <tr>\n",
       "      <th>6</th>\n",
       "      <td>0.146</td>\n",
       "      <td>0.413</td>\n",
       "      <td>0.435</td>\n",
       "      <td>0.2571</td>\n",
       "    </tr>\n",
       "  </tbody>\n",
       "</table>\n",
       "</div>"
      ],
      "text/plain": [
       "       0      1      2       3\n",
       "0  0.078  0.521  0.602  0.2863\n",
       "1  0.144 -0.600 -0.521  0.2245\n",
       "2  0.095 -0.457  0.468 -0.1283\n",
       "3  0.069  0.596  0.695  0.1054\n",
       "4  0.190  0.527  0.691  0.2051\n",
       "5  0.101  0.403  0.470  0.2487\n",
       "6  0.146  0.413  0.435  0.2571"
      ]
     },
     "execution_count": 16,
     "metadata": {},
     "output_type": "execute_result"
    }
   ],
   "source": [
    "# 代码4-2  数据规范化\n",
    "import pandas as pd\n",
    "import numpy as np\n",
    "datafile = '../data/normalization_data.xls'  # 参数初始化\n",
    "data = pd.read_excel(datafile, header = None)  # 读取数据\n",
    "print(data)\n",
    "\n",
    "(data - data.min()) / (data.max() - data.min())  # 最小-最大规范化\n",
    "(data - data.mean()) / data.std()  # 零-均值规范化\n",
    "data / 10 ** np.ceil(np.log10(data.abs().max()))  # 小数定标规范化\n",
    "\n"
   ]
  },
  {
   "cell_type": "code",
   "execution_count": 1,
   "metadata": {},
   "outputs": [
    {
     "name": "stderr",
     "output_type": "stream",
     "text": [
      "/Users/huangtianlin/opt/anaconda3/lib/python3.8/site-packages/sklearn/cluster/_kmeans.py:938: FutureWarning: 'n_jobs' was deprecated in version 0.23 and will be removed in 0.25.\n",
      "  warnings.warn(\"'n_jobs' was deprecated in version 0.23 and will be\"\n"
     ]
    },
    {
     "data": {
      "image/png": "[encoded data removed]",
      "text/plain": [
       "<Figure size 576x216 with 1 Axes>"
      ]
     },
     "metadata": {
      "needs_background": "light"
     },
     "output_type": "display_data"
    },
    {
     "data": {
      "image/png": "[encoded data removed]",
      "text/plain": [
       "<Figure size 576x216 with 1 Axes>"
      ]
     },
     "metadata": {
      "needs_background": "light"
     },
     "output_type": "display_data"
    },
    {
     "data": {
      "image/png": "[encoded data removed]",
      "text/plain": [
       "<Figure size 576x216 with 1 Axes>"
      ]
     },
     "metadata": {
      "needs_background": "light"
     },
     "output_type": "display_data"
    }
   ],
   "source": [
    "# 代码4-3  数据离散化\n",
    "import pandas as pd\n",
    "import numpy as np\n",
    "datafile = '../data/discretization_data.xls'  # 参数初始化\n",
    "data = pd.read_excel(datafile)  # 读取数据\n",
    "data = data['肝气郁结证型系数'].copy()\n",
    "k = 4\n",
    "\n",
    "d1 = pd.cut(data, k, labels = range(k))  # 等宽离散化，各个类比依次命名为0,1,2,3\n",
    "\n",
    "#等频率离散化\n",
    "w = [1.0*i/k for i in range(k+1)]\n",
    "w = data.describe(percentiles = w)[4:4+k+1]  # 使用describe函数自动计算分位数\n",
    "w[0] = w[0]*(1-1e-10)\n",
    "d2 = pd.cut(data, w, labels = range(k))\n",
    "\n",
    "from sklearn.cluster import KMeans  # 引入KMeans\n",
    "kmodel = KMeans(n_clusters = k, n_jobs = 4)  # 建立模型，n_jobs是并行数，一般等于CPU数较好\n",
    "kmodel.fit(np.array(data).reshape((len(data), 1)))  # 训练模型\n",
    "c = pd.DataFrame(kmodel.cluster_centers_).sort_values(0)  # 输出聚类中心，并且排序（默认是随机序的）\n",
    "w = c.rolling(2).mean()  # 相邻两项求中点，作为边界点\n",
    "w = w.dropna()\n",
    "w = [0] + list(w[0]) + [data.max()]  # 把首末边界点加上\n",
    "d3 = pd.cut(data, w, labels = range(k))\n",
    "def cluster_plot(d, k):  # 自定义作图函数来显示聚类结果\n",
    "  import matplotlib.pyplot as plt\n",
    "  plt.rcParams['font.sans-serif'] = ['Songti SC']  # 用来正常显示中文标签\n",
    "  plt.rcParams['axes.unicode_minus'] = False  # 用来正常显示负号\n",
    "  \n",
    "  plt.figure(figsize = (8, 3))\n",
    "  for j in range(0, k):\n",
    "    plt.plot(data[d==j], [j for i in d[d==j]], 'o')\n",
    "  \n",
    "  plt.ylim(-0.5, k-0.5)\n",
    "  return plt\n",
    "\n",
    "cluster_plot(d1, k).show()\n",
    "cluster_plot(d2, k).show()\n",
    "cluster_plot(d3, k).show()"
   ]
  },
  {
   "cell_type": "code",
   "execution_count": 20,
   "metadata": {},
   "outputs": [],
   "source": [
    "# 参数初始化\n",
    "inputfile= '../data/electricity_data.xls'  # 供入供出电量数据\n",
    "outputfile = '../tmp/electricity_data.xls'  # 属性构造后数据文件\n",
    "\n",
    "data = pd.read_excel(inputfile)  # 读入数据\n",
    "data['线损率'] = (data['供入电量'] - data['供出电量']) / data['供入电量']\n",
    "\n",
    "data.to_excel(outputfile, index = False)  # 保存结果"
   ]
  },
  {
   "cell_type": "code",
   "execution_count": 22,
   "metadata": {},
   "outputs": [],
   "source": [
    "inputfile= '../data/leleccum.mat'  # 提取自Matlab的信号文件\n",
    "\n",
    "from scipy.io import loadmat  # mat是Python专用格式，需要用loadmat读取它\n",
    "mat = loadmat(inputfile)\n",
    "signal = mat['leleccum'][0]\n",
    "\n",
    "import pywt  # 导入PyWavelets\n",
    "coeffs = pywt.wavedec(signal, 'bior3.7', level = 5)\n",
    "# 返回结果为level+1个数字，第一个数组为逼近系数数组，后面的依次是细节系数数组"
   ]
  },
  {
   "cell_type": "code",
   "execution_count": 23,
   "metadata": {},
   "outputs": [
    {
     "data": {
      "text/plain": [
       "array([[  8.19133694,  16.90402785,   3.90991029],\n",
       "       [  0.28527403,  -6.48074989,  -4.62870368],\n",
       "       [-23.70739074,  -2.85245701,  -0.4965231 ],\n",
       "       [-14.43202637,   2.29917325,  -1.50272151],\n",
       "       [  5.4304568 ,  10.00704077,   9.52086923],\n",
       "       [ 24.15955898,  -9.36428589,   0.72657857],\n",
       "       [ -3.66134607,  -7.60198615,  -2.36439873],\n",
       "       [ 13.96761214,  13.89123979,  -6.44917778],\n",
       "       [ 40.88093588, -13.25685287,   4.16539368],\n",
       "       [ -1.74887665,  -4.23112299,  -0.58980995],\n",
       "       [-21.94321959,  -2.36645883,   1.33203832],\n",
       "       [-36.70868069,  -6.00536554,   3.97183515],\n",
       "       [  3.28750663,   4.86380886,   1.00424688],\n",
       "       [  5.99885871,   4.19398863,  -8.59953736]])"
      ]
     },
     "execution_count": 23,
     "metadata": {},
     "output_type": "execute_result"
    }
   ],
   "source": [
    "# 参数初始化\n",
    "inputfile = '../data/principal_component.xls'\n",
    "outputfile = '../tmp/dimention_reducted.xls'  # 降维后的数据\n",
    "\n",
    "data = pd.read_excel(inputfile, header = None)  # 读入数据\n",
    "\n",
    "from sklearn.decomposition import PCA\n",
    "\n",
    "pca = PCA()\n",
    "pca.fit(data)\n",
    "\n",
    "pca.components_  # 返回模型的各个特征向量\n",
    "\n",
    "\n",
    "pca.explained_variance_ratio_  # 返回各个成分各自的方差百分比\n",
    "\n",
    "\n",
    "\n",
    "\n",
    "# 代码4-7 计算成分结果\n",
    "pca = PCA(3)\n",
    "pca.fit(data)\n",
    "low_d = pca.transform(data)  # 用它来降低维度\n",
    "pd.DataFrame(low_d).to_excel(outputfile)  # 保存结果\n",
    "pca.inverse_transform(low_d)  # 必要时可以用inverse_transform()函数来复原数据\n",
    "\n",
    "low_d"
   ]
  },
  {
   "cell_type": "code",
   "execution_count": 24,
   "metadata": {},
   "outputs": [
    {
     "data": {
      "text/plain": [
       "array([1, 2, 3, 5])"
      ]
     },
     "execution_count": 24,
     "metadata": {},
     "output_type": "execute_result"
    }
   ],
   "source": [
    "D = pd.Series([1, 1, 2, 3, 5])\n",
    "D.unique()\n",
    "np.unique(D)"
   ]
  },
  {
   "cell_type": "code",
   "execution_count": 25,
   "metadata": {},
   "outputs": [
    {
     "data": {
      "text/plain": [
       "array([0.47546556, 0.34738792, 0.13361728, 0.04352924])"
      ]
     },
     "execution_count": 25,
     "metadata": {},
     "output_type": "execute_result"
    }
   ],
   "source": [
    "# 代码 4-9 对一个10×4维的随机矩阵进行主成分分析\n",
    "from sklearn.decomposition import PCA\n",
    "D = np.random.rand(10,4)\n",
    "pca = PCA()\n",
    "pca.fit(D)\n",
    "pca.components_  # 返回模型的各个特征向量\n",
    "pca.explained_variance_ratio_  # 返回各个成分各自的方差百分比"
   ]
  },
  {
   "cell_type": "code",
   "execution_count": null,
   "metadata": {},
   "outputs": [],
   "source": []
  }
 ],
 "metadata": {
  "kernelspec": {
   "display_name": "Python 2",
   "language": "python",
   "name": "python2"
  },
  "language_info": {
   "codemirror_mode": {
    "name": "ipython",
    "version": 3
   },
   "file_extension": ".py",
   "mimetype": "text/x-python",
   "name": "python",
   "nbconvert_exporter": "python",
   "pygments_lexer": "ipython3",
   "version": "3.8.5"
  }
 },
 "nbformat": 4,
 "nbformat_minor": 4
}
